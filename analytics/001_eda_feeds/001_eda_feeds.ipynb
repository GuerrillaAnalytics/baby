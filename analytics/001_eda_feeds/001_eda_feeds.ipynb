{
 "cells": [
  {
   "cell_type": "code",
   "execution_count": 122,
   "metadata": {},
   "outputs": [],
   "source": [
    "import boto3\n",
    "import io\n",
    "import pandas as pd\n",
    "\n",
    "import seaborn as sns\n",
    "\n",
    "import matplotlib\n",
    "from matplotlib import transforms, pyplot as plt\n",
    "%matplotlib inline"
   ]
  },
  {
   "cell_type": "code",
   "execution_count": 2,
   "metadata": {},
   "outputs": [],
   "source": [
    "boto3.setup_default_session(profile_name='personal')"
   ]
  },
  {
   "cell_type": "markdown",
   "metadata": {},
   "source": [
    "# Input data checks"
   ]
  },
  {
   "cell_type": "code",
   "execution_count": 3,
   "metadata": {
    "scrolled": true
   },
   "outputs": [
    {
     "name": "stdout",
     "output_type": "stream",
     "text": [
      "data/001/raw/ 0.0 kb\n",
      "data/001/raw/excretions.csv 54.392 kb\n",
      "data/001/raw/feeds.csv 219.83 kb\n",
      "data/001/raw/growths.csv 0.064 kb\n",
      "data/001/raw/journal_entries.csv 1.209 kb\n",
      "data/001/raw/medicine_records.csv 0.347 kb\n",
      "data/001/raw/medicines.csv 0.171 kb\n",
      "data/001/raw/pauses.csv 0.47 kb\n",
      "data/001/raw/pumpings.csv 0.171 kb\n",
      "data/001/raw/sleeps.csv 2.662 kb\n",
      "data/001/raw/teeths.csv 0.033 kb\n",
      "data/001/raw/temperatures.csv 0.045 kb\n",
      "data/001/raw/vaccinations.csv 0.166 kb\n"
     ]
    }
   ],
   "source": [
    "client = boto3.client('s3')\n",
    "response = client.list_objects_v2(\n",
    "    Bucket='prj001-baby',\n",
    "    #Delimiter='/',\n",
    "    EncodingType='url',\n",
    "    MaxKeys=123,\n",
    "    #Prefix='raw',\n",
    "    #ContinuationToken='string',\n",
    "    #FetchOwner=True|False,\n",
    "    StartAfter='data/001/raw',\n",
    "    #RequestPayer='requester'\n",
    ")\n",
    "#print(response)\n",
    "for o in response.get('Contents'):\n",
    "    print (o.get('Key') + ' ' + str(o.get('Size')/ 1000) + ' kb' )\n",
    "    "
   ]
  },
  {
   "cell_type": "markdown",
   "metadata": {},
   "source": [
    "## Feed data"
   ]
  },
  {
   "cell_type": "code",
   "execution_count": 4,
   "metadata": {},
   "outputs": [],
   "source": [
    "boto3.setup_default_session(profile_name='personal')\n",
    "s3 = boto3.client('s3')\n",
    "obj = s3.get_object(Bucket='prj001-baby', Key='data/001/raw/feeds.csv')\n",
    "df = pd.read_csv(io.BytesIO(obj['Body'].read()))"
   ]
  },
  {
   "cell_type": "markdown",
   "metadata": {},
   "source": [
    "Most column names have been prefixed with a space"
   ]
  },
  {
   "cell_type": "code",
   "execution_count": 5,
   "metadata": {},
   "outputs": [
    {
     "data": {
      "text/plain": [
       "Index(['id', ' Start Time', ' End Time', ' Feed Type', ' Quantity (oz)',\n",
       "       ' Quantity (ml or g)', ' Notes', ' Duration (Minutes)', ' Food Type',\n",
       "       ' Unit', ' Bottle Type'],\n",
       "      dtype='object')"
      ]
     },
     "execution_count": 5,
     "metadata": {},
     "output_type": "execute_result"
    }
   ],
   "source": [
    "df.columns"
   ]
  },
  {
   "cell_type": "markdown",
   "metadata": {},
   "source": [
    "There are some odd feed durations. I left the stopwatch running because I was sleep deprived"
   ]
  },
  {
   "cell_type": "code",
   "execution_count": 6,
   "metadata": {},
   "outputs": [
    {
     "data": {
      "text/html": [
       "<div>\n",
       "<style scoped>\n",
       "    .dataframe tbody tr th:only-of-type {\n",
       "        vertical-align: middle;\n",
       "    }\n",
       "\n",
       "    .dataframe tbody tr th {\n",
       "        vertical-align: top;\n",
       "    }\n",
       "\n",
       "    .dataframe thead th {\n",
       "        text-align: right;\n",
       "    }\n",
       "</style>\n",
       "<table border=\"1\" class=\"dataframe\">\n",
       "  <thead>\n",
       "    <tr style=\"text-align: right;\">\n",
       "      <th></th>\n",
       "      <th>id</th>\n",
       "      <th>Quantity (oz)</th>\n",
       "      <th>Quantity (ml or g)</th>\n",
       "      <th>Duration (Minutes)</th>\n",
       "    </tr>\n",
       "  </thead>\n",
       "  <tbody>\n",
       "    <tr>\n",
       "      <th>count</th>\n",
       "      <td>2530.000000</td>\n",
       "      <td>2530.000000</td>\n",
       "      <td>2530.000000</td>\n",
       "      <td>2530.000000</td>\n",
       "    </tr>\n",
       "    <tr>\n",
       "      <th>mean</th>\n",
       "      <td>1281.190909</td>\n",
       "      <td>3.702921</td>\n",
       "      <td>109.503953</td>\n",
       "      <td>10.089328</td>\n",
       "    </tr>\n",
       "    <tr>\n",
       "      <th>std</th>\n",
       "      <td>736.290294</td>\n",
       "      <td>1.490045</td>\n",
       "      <td>44.078153</td>\n",
       "      <td>16.122993</td>\n",
       "    </tr>\n",
       "    <tr>\n",
       "      <th>min</th>\n",
       "      <td>2.000000</td>\n",
       "      <td>0.340000</td>\n",
       "      <td>10.000000</td>\n",
       "      <td>0.000000</td>\n",
       "    </tr>\n",
       "    <tr>\n",
       "      <th>25%</th>\n",
       "      <td>644.250000</td>\n",
       "      <td>2.540000</td>\n",
       "      <td>75.000000</td>\n",
       "      <td>8.000000</td>\n",
       "    </tr>\n",
       "    <tr>\n",
       "      <th>50%</th>\n",
       "      <td>1280.500000</td>\n",
       "      <td>3.380000</td>\n",
       "      <td>100.000000</td>\n",
       "      <td>9.000000</td>\n",
       "    </tr>\n",
       "    <tr>\n",
       "      <th>75%</th>\n",
       "      <td>1919.750000</td>\n",
       "      <td>5.070000</td>\n",
       "      <td>150.000000</td>\n",
       "      <td>10.000000</td>\n",
       "    </tr>\n",
       "    <tr>\n",
       "      <th>max</th>\n",
       "      <td>2554.000000</td>\n",
       "      <td>9.300000</td>\n",
       "      <td>275.000000</td>\n",
       "      <td>729.000000</td>\n",
       "    </tr>\n",
       "  </tbody>\n",
       "</table>\n",
       "</div>"
      ],
      "text/plain": [
       "                id   Quantity (oz)   Quantity (ml or g)   Duration (Minutes)\n",
       "count  2530.000000     2530.000000          2530.000000          2530.000000\n",
       "mean   1281.190909        3.702921           109.503953            10.089328\n",
       "std     736.290294        1.490045            44.078153            16.122993\n",
       "min       2.000000        0.340000            10.000000             0.000000\n",
       "25%     644.250000        2.540000            75.000000             8.000000\n",
       "50%    1280.500000        3.380000           100.000000             9.000000\n",
       "75%    1919.750000        5.070000           150.000000            10.000000\n",
       "max    2554.000000        9.300000           275.000000           729.000000"
      ]
     },
     "execution_count": 6,
     "metadata": {},
     "output_type": "execute_result"
    }
   ],
   "source": [
    "df.describe()"
   ]
  },
  {
   "cell_type": "code",
   "execution_count": 7,
   "metadata": {},
   "outputs": [
    {
     "data": {
      "text/html": [
       "<div>\n",
       "<style scoped>\n",
       "    .dataframe tbody tr th:only-of-type {\n",
       "        vertical-align: middle;\n",
       "    }\n",
       "\n",
       "    .dataframe tbody tr th {\n",
       "        vertical-align: top;\n",
       "    }\n",
       "\n",
       "    .dataframe thead th {\n",
       "        text-align: right;\n",
       "    }\n",
       "</style>\n",
       "<table border=\"1\" class=\"dataframe\">\n",
       "  <thead>\n",
       "    <tr style=\"text-align: right;\">\n",
       "      <th></th>\n",
       "      <th>id</th>\n",
       "      <th>Start Time</th>\n",
       "      <th>End Time</th>\n",
       "      <th>Feed Type</th>\n",
       "      <th>Quantity (oz)</th>\n",
       "      <th>Quantity (ml or g)</th>\n",
       "      <th>Notes</th>\n",
       "      <th>Duration (Minutes)</th>\n",
       "      <th>Food Type</th>\n",
       "      <th>Unit</th>\n",
       "      <th>Bottle Type</th>\n",
       "    </tr>\n",
       "  </thead>\n",
       "  <tbody>\n",
       "    <tr>\n",
       "      <th>2520</th>\n",
       "      <td>11</td>\n",
       "      <td>12:18:38 04-27-2017</td>\n",
       "      <td>12:30:06 04-27-2017</td>\n",
       "      <td>Bottle</td>\n",
       "      <td>2.03</td>\n",
       "      <td>60</td>\n",
       "      <td>NaN</td>\n",
       "      <td>11</td>\n",
       "      <td>Liquid</td>\n",
       "      <td>METRIC</td>\n",
       "      <td>Formula</td>\n",
       "    </tr>\n",
       "    <tr>\n",
       "      <th>2521</th>\n",
       "      <td>10</td>\n",
       "      <td>09:26:41 04-27-2017</td>\n",
       "      <td>09:34:51 04-27-2017</td>\n",
       "      <td>Bottle</td>\n",
       "      <td>2.03</td>\n",
       "      <td>60</td>\n",
       "      <td>NaN</td>\n",
       "      <td>8</td>\n",
       "      <td>Liquid</td>\n",
       "      <td>METRIC</td>\n",
       "      <td>Formula</td>\n",
       "    </tr>\n",
       "    <tr>\n",
       "      <th>2522</th>\n",
       "      <td>9</td>\n",
       "      <td>05:43:08 04-27-2017</td>\n",
       "      <td>05:50:00 04-27-2017</td>\n",
       "      <td>Bottle</td>\n",
       "      <td>2.03</td>\n",
       "      <td>60</td>\n",
       "      <td>NaN</td>\n",
       "      <td>6</td>\n",
       "      <td>Liquid</td>\n",
       "      <td>METRIC</td>\n",
       "      <td>Formula</td>\n",
       "    </tr>\n",
       "    <tr>\n",
       "      <th>2523</th>\n",
       "      <td>8</td>\n",
       "      <td>02:23:50 04-27-2017</td>\n",
       "      <td>02:27:37 04-27-2017</td>\n",
       "      <td>Bottle</td>\n",
       "      <td>2.03</td>\n",
       "      <td>60</td>\n",
       "      <td>NaN</td>\n",
       "      <td>3</td>\n",
       "      <td>Liquid</td>\n",
       "      <td>METRIC</td>\n",
       "      <td>Formula</td>\n",
       "    </tr>\n",
       "    <tr>\n",
       "      <th>2524</th>\n",
       "      <td>7</td>\n",
       "      <td>22:51:30 04-26-2017</td>\n",
       "      <td>22:57:41 04-26-2017</td>\n",
       "      <td>Bottle</td>\n",
       "      <td>2.03</td>\n",
       "      <td>60</td>\n",
       "      <td>NaN</td>\n",
       "      <td>6</td>\n",
       "      <td>Liquid</td>\n",
       "      <td>METRIC</td>\n",
       "      <td>Formula</td>\n",
       "    </tr>\n",
       "    <tr>\n",
       "      <th>2525</th>\n",
       "      <td>6</td>\n",
       "      <td>20:21:56 04-26-2017</td>\n",
       "      <td>20:23:31 04-26-2017</td>\n",
       "      <td>Bottle</td>\n",
       "      <td>2.03</td>\n",
       "      <td>60</td>\n",
       "      <td>NaN</td>\n",
       "      <td>1</td>\n",
       "      <td>Liquid</td>\n",
       "      <td>METRIC</td>\n",
       "      <td>Formula</td>\n",
       "    </tr>\n",
       "    <tr>\n",
       "      <th>2526</th>\n",
       "      <td>5</td>\n",
       "      <td>17:04:20 04-26-2017</td>\n",
       "      <td>17:08:18 04-26-2017</td>\n",
       "      <td>Bottle</td>\n",
       "      <td>2.03</td>\n",
       "      <td>60</td>\n",
       "      <td>NaN</td>\n",
       "      <td>3</td>\n",
       "      <td>Liquid</td>\n",
       "      <td>METRIC</td>\n",
       "      <td>Formula</td>\n",
       "    </tr>\n",
       "    <tr>\n",
       "      <th>2527</th>\n",
       "      <td>4</td>\n",
       "      <td>14:30:46 04-26-2017</td>\n",
       "      <td>14:42:48 04-26-2017</td>\n",
       "      <td>Bottle</td>\n",
       "      <td>2.03</td>\n",
       "      <td>60</td>\n",
       "      <td>NaN</td>\n",
       "      <td>12</td>\n",
       "      <td>Liquid</td>\n",
       "      <td>METRIC</td>\n",
       "      <td>Formula</td>\n",
       "    </tr>\n",
       "    <tr>\n",
       "      <th>2528</th>\n",
       "      <td>3</td>\n",
       "      <td>11:55:10 04-26-2017</td>\n",
       "      <td>12:00:48 04-26-2017</td>\n",
       "      <td>Bottle</td>\n",
       "      <td>2.03</td>\n",
       "      <td>60</td>\n",
       "      <td>NaN</td>\n",
       "      <td>5</td>\n",
       "      <td>Liquid</td>\n",
       "      <td>METRIC</td>\n",
       "      <td>Formula</td>\n",
       "    </tr>\n",
       "    <tr>\n",
       "      <th>2529</th>\n",
       "      <td>2</td>\n",
       "      <td>09:00:46 04-26-2017</td>\n",
       "      <td>09:09:48 04-26-2017</td>\n",
       "      <td>Bottle</td>\n",
       "      <td>2.03</td>\n",
       "      <td>60</td>\n",
       "      <td>NaN</td>\n",
       "      <td>9</td>\n",
       "      <td>Liquid</td>\n",
       "      <td>METRIC</td>\n",
       "      <td>Formula</td>\n",
       "    </tr>\n",
       "  </tbody>\n",
       "</table>\n",
       "</div>"
      ],
      "text/plain": [
       "      id           Start Time             End Time  Feed Type   Quantity (oz)  \\\n",
       "2520  11  12:18:38 04-27-2017  12:30:06 04-27-2017     Bottle            2.03   \n",
       "2521  10  09:26:41 04-27-2017  09:34:51 04-27-2017     Bottle            2.03   \n",
       "2522   9  05:43:08 04-27-2017  05:50:00 04-27-2017     Bottle            2.03   \n",
       "2523   8  02:23:50 04-27-2017  02:27:37 04-27-2017     Bottle            2.03   \n",
       "2524   7  22:51:30 04-26-2017  22:57:41 04-26-2017     Bottle            2.03   \n",
       "2525   6  20:21:56 04-26-2017  20:23:31 04-26-2017     Bottle            2.03   \n",
       "2526   5  17:04:20 04-26-2017  17:08:18 04-26-2017     Bottle            2.03   \n",
       "2527   4  14:30:46 04-26-2017  14:42:48 04-26-2017     Bottle            2.03   \n",
       "2528   3  11:55:10 04-26-2017  12:00:48 04-26-2017     Bottle            2.03   \n",
       "2529   2  09:00:46 04-26-2017  09:09:48 04-26-2017     Bottle            2.03   \n",
       "\n",
       "       Quantity (ml or g)  Notes   Duration (Minutes)  Food Type    Unit  \\\n",
       "2520                   60    NaN                   11     Liquid  METRIC   \n",
       "2521                   60    NaN                    8     Liquid  METRIC   \n",
       "2522                   60    NaN                    6     Liquid  METRIC   \n",
       "2523                   60    NaN                    3     Liquid  METRIC   \n",
       "2524                   60    NaN                    6     Liquid  METRIC   \n",
       "2525                   60    NaN                    1     Liquid  METRIC   \n",
       "2526                   60    NaN                    3     Liquid  METRIC   \n",
       "2527                   60    NaN                   12     Liquid  METRIC   \n",
       "2528                   60    NaN                    5     Liquid  METRIC   \n",
       "2529                   60    NaN                    9     Liquid  METRIC   \n",
       "\n",
       "      Bottle Type  \n",
       "2520      Formula  \n",
       "2521      Formula  \n",
       "2522      Formula  \n",
       "2523      Formula  \n",
       "2524      Formula  \n",
       "2525      Formula  \n",
       "2526      Formula  \n",
       "2527      Formula  \n",
       "2528      Formula  \n",
       "2529      Formula  "
      ]
     },
     "execution_count": 7,
     "metadata": {},
     "output_type": "execute_result"
    }
   ],
   "source": [
    "df.tail(10)"
   ]
  },
  {
   "cell_type": "code",
   "execution_count": 8,
   "metadata": {},
   "outputs": [
    {
     "name": "stdout",
     "output_type": "stream",
     "text": [
      "(2530, 11)\n"
     ]
    }
   ],
   "source": [
    "print(df.shape)"
   ]
  },
  {
   "cell_type": "code",
   "execution_count": 9,
   "metadata": {},
   "outputs": [
    {
     "name": "stdout",
     "output_type": "stream",
     "text": [
      "<class 'pandas.core.frame.DataFrame'>\n",
      "RangeIndex: 2530 entries, 0 to 2529\n",
      "Data columns (total 11 columns):\n",
      "id                     2530 non-null int64\n",
      " Start Time            2530 non-null object\n",
      " End Time              2530 non-null object\n",
      " Feed Type             2530 non-null object\n",
      " Quantity (oz)         2530 non-null float64\n",
      " Quantity (ml or g)    2530 non-null int64\n",
      " Notes                 82 non-null object\n",
      " Duration (Minutes)    2530 non-null int64\n",
      " Food Type             2529 non-null object\n",
      " Unit                  2530 non-null object\n",
      " Bottle Type           2483 non-null object\n",
      "dtypes: float64(1), int64(3), object(7)\n",
      "memory usage: 217.5+ KB\n",
      "None\n"
     ]
    }
   ],
   "source": [
    "print(df.info())"
   ]
  },
  {
   "cell_type": "markdown",
   "metadata": {},
   "source": [
    "## Time range of feeds "
   ]
  },
  {
   "cell_type": "code",
   "execution_count": 10,
   "metadata": {},
   "outputs": [],
   "source": [
    "df[' Start Time'] = df[' Start Time'].astype('datetime64')"
   ]
  },
  {
   "cell_type": "code",
   "execution_count": 11,
   "metadata": {},
   "outputs": [],
   "source": [
    "start_date = min(df[' Start Time'])\n",
    "end_date = max(df[' Start Time']) "
   ]
  },
  {
   "cell_type": "markdown",
   "metadata": {
    "variables": {
     "end_date": "Timestamp(&#39;2018-03-04 18:25:57&#39;)",
     "start_date": "Timestamp(&#39;2017-04-26 09:00:46&#39;)"
    }
   },
   "source": [
    "The earliest feed happens on {{start_date}} \n",
    "The final feed happens on {{end_date}}"
   ]
  },
  {
   "cell_type": "markdown",
   "metadata": {},
   "source": [
    "At some point we started feeding solid food"
   ]
  },
  {
   "cell_type": "code",
   "execution_count": 12,
   "metadata": {},
   "outputs": [
    {
     "data": {
      "text/plain": [
       "array(['Liquid', 'Yogurt', 'Vege', 'Dairy', 'Bread; Fruit; Yogurt',\n",
       "       'Meat; Vege', 'Fruit; Yogurt', 'Cereal', 'Fruit',\n",
       "       'Bread; Fruit; Vege', 'Meat', nan, 'Bread; Dairy; Fruit',\n",
       "       'Fruit; Vege', 'Bread; Fruit', 'Fruit; Meat', 'Bread'],\n",
       "      dtype=object)"
      ]
     },
     "execution_count": 12,
     "metadata": {},
     "output_type": "execute_result"
    }
   ],
   "source": [
    "df[' Food Type'].unique()"
   ]
  },
  {
   "cell_type": "markdown",
   "metadata": {},
   "source": [
    "## A small number of feeds are not bottle feeds"
   ]
  },
  {
   "cell_type": "code",
   "execution_count": 13,
   "metadata": {},
   "outputs": [
    {
     "data": {
      "text/plain": [
       "array(['Formula', nan], dtype=object)"
      ]
     },
     "execution_count": 13,
     "metadata": {},
     "output_type": "execute_result"
    }
   ],
   "source": [
    "df[' Bottle Type'].unique()"
   ]
  },
  {
   "cell_type": "markdown",
   "metadata": {},
   "source": [
    "These are the times when solid feeds were down"
   ]
  },
  {
   "cell_type": "code",
   "execution_count": 14,
   "metadata": {},
   "outputs": [
    {
     "data": {
      "text/plain": [
       "array(['Liquid', 'Yogurt', 'Vege', 'Dairy', 'Bread; Fruit; Yogurt',\n",
       "       'Meat; Vege', 'Fruit; Yogurt', 'Cereal', 'Fruit',\n",
       "       'Bread; Fruit; Vege', 'Meat', nan, 'Bread; Dairy; Fruit',\n",
       "       'Fruit; Vege', 'Bread; Fruit', 'Fruit; Meat', 'Bread'],\n",
       "      dtype=object)"
      ]
     },
     "execution_count": 14,
     "metadata": {},
     "output_type": "execute_result"
    }
   ],
   "source": [
    "df[df[' Bottle Type'].isnull()][' Food Type'].unique()"
   ]
  },
  {
   "cell_type": "markdown",
   "metadata": {},
   "source": [
    "## Quantity of Feed"
   ]
  },
  {
   "cell_type": "code",
   "execution_count": 15,
   "metadata": {},
   "outputs": [],
   "source": [
    "my_palette = ['#78C850',  # Grass\n",
    "                    '#F08030',  # Fire\n",
    "                    '#6890F0',  # Water\n",
    "                    '#A8B820',  # Bug\n",
    "                    '#A8A878',  # Normal\n",
    "                    '#A040A0',  # Poison\n",
    "                    '#F8D030',  # Electric\n",
    "                    '#E0C068',  # Ground\n",
    "                    '#EE99AC',  # Fairy\n",
    "                    '#C03028',  # Fighting\n",
    "                    '#F85888',  # Psychic\n",
    "                    '#B8A038',  # Rock\n",
    "                    '#705898',  # Ghost\n",
    "                    '#98D8D8',  # Ice\n",
    "                    '#7038F8',  # Dragon\n",
    "                   ]"
   ]
  },
  {
   "cell_type": "code",
   "execution_count": 16,
   "metadata": {},
   "outputs": [],
   "source": [
    "max_quantity = max(df[' Quantity (ml or g)'] )"
   ]
  },
  {
   "cell_type": "code",
   "execution_count": 155,
   "metadata": {},
   "outputs": [],
   "source": [
    "# define colors\n",
    "GRAY1, GRAY2, GRAY3 = '#231F20', '#414040', '#555655'\n",
    "GRAY4, GRAY5, GRAY6 = '#646369', '#76787B', '#828282'\n",
    "GRAY7, GRAY8, GRAY9 = '#929497', '#A6A6A5', '#BFBEBE'\n",
    "BLUE1, BLUE2, BLUE3, BLUE4 = '#174A7E', '#4A81BF', '#94B2D7', '#94AFC5'\n",
    "RED1, RED2 = '#C3514E', '#E6BAB7'\n",
    "GREEN1, GREEN2 = '#0C8040', '#9ABB59'\n",
    "ORANGE1 = '#E15628'"
   ]
  },
  {
   "cell_type": "code",
   "execution_count": 164,
   "metadata": {},
   "outputs": [
    {
     "name": "stderr",
     "output_type": "stream",
     "text": [
      "/home/enda/.pyenv/versions/3.7.3/envs/prj001-baby/lib/python3.7/site-packages/ipykernel_launcher.py:17: MatplotlibDeprecationWarning: Adding an axes using the same arguments as a previous axes currently reuses the earlier instance.  In a future version, a new instance will always be created and returned.  Meanwhile, this warning can be suppressed, and the future behavior ensured, by passing a unique label to each axes instance.\n"
     ]
    },
    {
     "data": {
      "image/png": "[encoded data removed]",
      "text/plain": [
       "<Figure size 720x432 with 1 Axes>"
      ]
     },
     "metadata": {},
     "output_type": "display_data"
    }
   ],
   "source": [
    "import numpy as np\n",
    "\n",
    "# configure plot font family to Arial\n",
    "plt.rcParams['font.family'] = 'Arial'\n",
    "matplotlib.rcParams['mathtext.bf'] = 'Arial:bold'\n",
    "matplotlib.rcParams['mathtext.it'] = 'Arial:italic'\n",
    "\n",
    "sns.set_style('whitegrid')\n",
    "plt.figure(figsize=(10,6))\n",
    " \n",
    "fig = sns.distplot(df[' Quantity (ml or g)'] , kde=False, bins = 30, color = ORANGE1,hist_kws={\"rwidth\": 0.9})\n",
    "plt.ylim(0, 500)\n",
    "plt.xlim(0, max_quantity)\n",
    "\n",
    "fig.set(xticks=np.arange(0,max_quantity,25))\n",
    "\n",
    "ax=plt.axes()\n",
    "ax.xaxis.grid() # remove vertical grid\n",
    "ax.spines['right'].set_visible(False)\n",
    "ax.spines['bottom'].set_visible(False)\n",
    "ax.spines['left'].set_visible(False)\n",
    "\n",
    "ax.tick_params(bottom='on')\n",
    "ax.set_xlabel('Quantity',fontsize=14)\n",
    "ax.xaxis.labelpad = 20\n",
    "\n",
    "for item in ax.get_yticklabels():\n",
    "    item.set_fontsize(12)\n",
    "for item in ax.get_xticklabels():\n",
    "    item.set_fontsize(12)\n",
    "    \n",
    "ax.set_title('Frequency of Feed Volumes in the First Year', pad=30, fontsize=20)\n",
    "\n",
    "\n",
    "ax.text(200, -100,\n",
    "         'Data includes bottle and solid feeds',\n",
    "         fontsize=8,\n",
    "         color=GRAY3)\n",
    "ax.text(300, 400, \"There are two main types of feed volume.\\n\" \\\n",
    "                    \"Most feeds are either 100ml or 150ml.\\n\" \\\n",
    "                    \"Total volume in the year was \" + str(sum(df[' Quantity (ml or g)'])/1000 )+ 'l', \\\n",
    "                    size=15);\n",
    "\n",
    "plt.show()"
   ]
  },
  {
   "cell_type": "code",
   "execution_count": 62,
   "metadata": {},
   "outputs": [
    {
     "data": {
      "text/html": [
       "<div>\n",
       "<style scoped>\n",
       "    .dataframe tbody tr th:only-of-type {\n",
       "        vertical-align: middle;\n",
       "    }\n",
       "\n",
       "    .dataframe tbody tr th {\n",
       "        vertical-align: top;\n",
       "    }\n",
       "\n",
       "    .dataframe thead th {\n",
       "        text-align: right;\n",
       "    }\n",
       "</style>\n",
       "<table border=\"1\" class=\"dataframe\">\n",
       "  <thead>\n",
       "    <tr style=\"text-align: right;\">\n",
       "      <th></th>\n",
       "      <th>id</th>\n",
       "      <th>Start Time</th>\n",
       "      <th>End Time</th>\n",
       "      <th>Feed Type</th>\n",
       "      <th>Quantity (oz)</th>\n",
       "      <th>Quantity (ml or g)</th>\n",
       "      <th>Notes</th>\n",
       "      <th>Duration (Minutes)</th>\n",
       "      <th>Food Type</th>\n",
       "      <th>Unit</th>\n",
       "      <th>Bottle Type</th>\n",
       "      <th>start_time_yymmww</th>\n",
       "    </tr>\n",
       "  </thead>\n",
       "  <tbody>\n",
       "    <tr>\n",
       "      <th>0</th>\n",
       "      <td>2554</td>\n",
       "      <td>2018-03-04 18:25:57</td>\n",
       "      <td>18:40:57 03-04-2018</td>\n",
       "      <td>Bottle</td>\n",
       "      <td>5.07</td>\n",
       "      <td>150</td>\n",
       "      <td>NaN</td>\n",
       "      <td>15</td>\n",
       "      <td>Liquid</td>\n",
       "      <td>METRIC</td>\n",
       "      <td>Formula</td>\n",
       "      <td>2018-03-09</td>\n",
       "    </tr>\n",
       "    <tr>\n",
       "      <th>1</th>\n",
       "      <td>2553</td>\n",
       "      <td>2018-03-04 13:58:16</td>\n",
       "      <td>14:07:16 03-04-2018</td>\n",
       "      <td>Bottle</td>\n",
       "      <td>4.06</td>\n",
       "      <td>120</td>\n",
       "      <td>NaN</td>\n",
       "      <td>9</td>\n",
       "      <td>Liquid</td>\n",
       "      <td>METRIC</td>\n",
       "      <td>Formula</td>\n",
       "      <td>2018-03-09</td>\n",
       "    </tr>\n",
       "    <tr>\n",
       "      <th>2</th>\n",
       "      <td>2551</td>\n",
       "      <td>2018-03-04 07:00:58</td>\n",
       "      <td>07:13:06 03-04-2018</td>\n",
       "      <td>Bottle</td>\n",
       "      <td>4.06</td>\n",
       "      <td>120</td>\n",
       "      <td>NaN</td>\n",
       "      <td>12</td>\n",
       "      <td>Liquid</td>\n",
       "      <td>METRIC</td>\n",
       "      <td>Formula</td>\n",
       "      <td>2018-03-09</td>\n",
       "    </tr>\n",
       "  </tbody>\n",
       "</table>\n",
       "</div>"
      ],
      "text/plain": [
       "     id          Start Time             End Time  Feed Type   Quantity (oz)  \\\n",
       "0  2554 2018-03-04 18:25:57  18:40:57 03-04-2018     Bottle            5.07   \n",
       "1  2553 2018-03-04 13:58:16  14:07:16 03-04-2018     Bottle            4.06   \n",
       "2  2551 2018-03-04 07:00:58  07:13:06 03-04-2018     Bottle            4.06   \n",
       "\n",
       "    Quantity (ml or g)  Notes   Duration (Minutes)  Food Type    Unit  \\\n",
       "0                  150    NaN                   15     Liquid  METRIC   \n",
       "1                  120    NaN                    9     Liquid  METRIC   \n",
       "2                  120    NaN                   12     Liquid  METRIC   \n",
       "\n",
       "   Bottle Type start_time_yymmww  \n",
       "0      Formula        2018-03-09  \n",
       "1      Formula        2018-03-09  \n",
       "2      Formula        2018-03-09  "
      ]
     },
     "execution_count": 62,
     "metadata": {},
     "output_type": "execute_result"
    }
   ],
   "source": [
    "df.head(3)"
   ]
  },
  {
   "cell_type": "code",
   "execution_count": 29,
   "metadata": {},
   "outputs": [],
   "source": [
    "df['start_time_yymmww'] = df[' Start Time'].map(lambda x: str(x.year) + '-' + str(x.month).zfill(2) + '-' + str(x.week).zfill(2) )"
   ]
  },
  {
   "cell_type": "code",
   "execution_count": 33,
   "metadata": {},
   "outputs": [],
   "source": [
    "\n",
    "df_feeds_per_week = df.groupby(df['start_time_yymmww'])[['id']].count()"
   ]
  },
  {
   "cell_type": "code",
   "execution_count": null,
   "metadata": {},
   "outputs": [],
   "source": []
  }
 ],
 "metadata": {
  "kernelspec": {
   "display_name": "Python 3",
   "language": "python",
   "name": "python3"
  },
  "language_info": {
   "codemirror_mode": {
    "name": "ipython",
    "version": 3
   },
   "file_extension": ".py",
   "mimetype": "text/x-python",
   "name": "python",
   "nbconvert_exporter": "python",
   "pygments_lexer": "ipython3",
   "version": "3.7.3"
  },
  "toc": {
   "base_numbering": 1,
   "nav_menu": {},
   "number_sections": true,
   "sideBar": true,
   "skip_h1_title": false,
   "title_cell": "Table of Contents",
   "title_sidebar": "Contents",
   "toc_cell": false,
   "toc_position": {},
   "toc_section_display": true,
   "toc_window_display": false
  }
 },
 "nbformat": 4,
 "nbformat_minor": 2
}
