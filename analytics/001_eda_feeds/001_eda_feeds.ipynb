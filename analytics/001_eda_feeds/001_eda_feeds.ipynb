{
 "cells": [
  {
   "cell_type": "code",
   "execution_count": 2,
   "metadata": {},
   "outputs": [],
   "source": [
    "import boto3\n",
    "import io\n",
    "import pandas as pd\n",
    "\n",
    "import seaborn as sns\n",
    "\n",
    "import datetime as dt\n",
    "\n",
    "import numpy as np \n",
    "import matplotlib\n",
    "from matplotlib import transforms, pyplot as plt\n",
    "%matplotlib inline"
   ]
  },
  {
   "cell_type": "code",
   "execution_count": 3,
   "metadata": {},
   "outputs": [],
   "source": [
    "boto3.setup_default_session(profile_name='personal')\n",
    "bucket='raw-landing'"
   ]
  },
  {
   "cell_type": "markdown",
   "metadata": {},
   "source": [
    "# Input data checks\n",
    "List the files available to work with"
   ]
  },
  {
   "cell_type": "code",
   "execution_count": 4,
   "metadata": {
    "scrolled": true
   },
   "outputs": [
    {
     "name": "stdout",
     "output_type": "stream",
     "text": [
      "prj001-baby/data/001/raw/ 0.0 kb\n",
      "prj001-baby/data/001/raw/excretions.csv 54.392 kb\n",
      "prj001-baby/data/001/raw/feeds.csv 219.83 kb\n",
      "prj001-baby/data/001/raw/growths.csv 0.064 kb\n",
      "prj001-baby/data/001/raw/journal_entries.csv 1.209 kb\n",
      "prj001-baby/data/001/raw/medicine_records.csv 0.347 kb\n",
      "prj001-baby/data/001/raw/medicines.csv 0.171 kb\n",
      "prj001-baby/data/001/raw/pauses.csv 0.47 kb\n",
      "prj001-baby/data/001/raw/pumpings.csv 0.171 kb\n",
      "prj001-baby/data/001/raw/sleeps.csv 2.662 kb\n",
      "prj001-baby/data/001/raw/teeths.csv 0.033 kb\n",
      "prj001-baby/data/001/raw/temperatures.csv 0.045 kb\n",
      "prj001-baby/data/001/raw/vaccinations.csv 0.166 kb\n"
     ]
    }
   ],
   "source": [
    "client = boto3.client('s3')\n",
    "response = client.list_objects_v2(\n",
    "    Bucket=bucket,\n",
    "    #Delimiter='/',\n",
    "    EncodingType='url',\n",
    "    MaxKeys=123,\n",
    "    #Prefix='raw',\n",
    "    #ContinuationToken='string',\n",
    "    #FetchOwner=True|False,\n",
    "    StartAfter='prj001-baby/data/001/raw',\n",
    "    #RequestPayer='requester'\n",
    ")\n",
    "#print(response)\n",
    "for o in response.get('Contents'):\n",
    "    print (o.get('Key') + ' ' + str(o.get('Size')/ 1000) + ' kb' )\n",
    "    "
   ]
  },
  {
   "cell_type": "markdown",
   "metadata": {},
   "source": [
    "# Feed data"
   ]
  },
  {
   "cell_type": "markdown",
   "metadata": {},
   "source": [
    "Read in raw feed data"
   ]
  },
  {
   "cell_type": "code",
   "execution_count": 6,
   "metadata": {},
   "outputs": [],
   "source": [
    "boto3.setup_default_session(profile_name='personal')\n",
    "s3 = boto3.client('s3')\n",
    "obj = s3.get_object(Bucket=bucket, Key='prj001-baby/data/001/raw/feeds.csv')\n",
    "df = pd.read_csv(io.BytesIO(obj['Body'].read()))"
   ]
  },
  {
   "cell_type": "markdown",
   "metadata": {},
   "source": [
    "Always add a row number to preserve original data order"
   ]
  },
  {
   "cell_type": "code",
   "execution_count": 7,
   "metadata": {},
   "outputs": [
    {
     "data": {
      "text/plain": [
       "(2530, 12)"
      ]
     },
     "execution_count": 7,
     "metadata": {},
     "output_type": "execute_result"
    }
   ],
   "source": [
    "df['row_num'] = np.arange(len(df))+1\n",
    "df.shape"
   ]
  },
  {
   "cell_type": "markdown",
   "metadata": {},
   "source": [
    "Inspect the columns used. \n",
    "Most column names have been prefixed with a space"
   ]
  },
  {
   "cell_type": "code",
   "execution_count": 8,
   "metadata": {},
   "outputs": [
    {
     "data": {
      "text/plain": [
       "Index(['id', ' Start Time', ' End Time', ' Feed Type', ' Quantity (oz)',\n",
       "       ' Quantity (ml or g)', ' Notes', ' Duration (Minutes)', ' Food Type',\n",
       "       ' Unit', ' Bottle Type', 'row_num'],\n",
       "      dtype='object')"
      ]
     },
     "execution_count": 8,
     "metadata": {},
     "output_type": "execute_result"
    }
   ],
   "source": [
    "df.columns"
   ]
  },
  {
   "cell_type": "markdown",
   "metadata": {},
   "source": [
    "There are some odd feed durations. I left the stopwatch running because I was sleep deprived"
   ]
  },
  {
   "cell_type": "code",
   "execution_count": 9,
   "metadata": {},
   "outputs": [
    {
     "data": {
      "text/html": [
       "<div>\n",
       "<style scoped>\n",
       "    .dataframe tbody tr th:only-of-type {\n",
       "        vertical-align: middle;\n",
       "    }\n",
       "\n",
       "    .dataframe tbody tr th {\n",
       "        vertical-align: top;\n",
       "    }\n",
       "\n",
       "    .dataframe thead th {\n",
       "        text-align: right;\n",
       "    }\n",
       "</style>\n",
       "<table border=\"1\" class=\"dataframe\">\n",
       "  <thead>\n",
       "    <tr style=\"text-align: right;\">\n",
       "      <th></th>\n",
       "      <th>id</th>\n",
       "      <th>Quantity (oz)</th>\n",
       "      <th>Quantity (ml or g)</th>\n",
       "      <th>Duration (Minutes)</th>\n",
       "      <th>row_num</th>\n",
       "    </tr>\n",
       "  </thead>\n",
       "  <tbody>\n",
       "    <tr>\n",
       "      <th>count</th>\n",
       "      <td>2530.000000</td>\n",
       "      <td>2530.000000</td>\n",
       "      <td>2530.000000</td>\n",
       "      <td>2530.000000</td>\n",
       "      <td>2530.000000</td>\n",
       "    </tr>\n",
       "    <tr>\n",
       "      <th>mean</th>\n",
       "      <td>1281.190909</td>\n",
       "      <td>3.702921</td>\n",
       "      <td>109.503953</td>\n",
       "      <td>10.089328</td>\n",
       "      <td>1265.500000</td>\n",
       "    </tr>\n",
       "    <tr>\n",
       "      <th>std</th>\n",
       "      <td>736.290294</td>\n",
       "      <td>1.490045</td>\n",
       "      <td>44.078153</td>\n",
       "      <td>16.122993</td>\n",
       "      <td>730.492414</td>\n",
       "    </tr>\n",
       "    <tr>\n",
       "      <th>min</th>\n",
       "      <td>2.000000</td>\n",
       "      <td>0.340000</td>\n",
       "      <td>10.000000</td>\n",
       "      <td>0.000000</td>\n",
       "      <td>1.000000</td>\n",
       "    </tr>\n",
       "    <tr>\n",
       "      <th>25%</th>\n",
       "      <td>644.250000</td>\n",
       "      <td>2.540000</td>\n",
       "      <td>75.000000</td>\n",
       "      <td>8.000000</td>\n",
       "      <td>633.250000</td>\n",
       "    </tr>\n",
       "    <tr>\n",
       "      <th>50%</th>\n",
       "      <td>1280.500000</td>\n",
       "      <td>3.380000</td>\n",
       "      <td>100.000000</td>\n",
       "      <td>9.000000</td>\n",
       "      <td>1265.500000</td>\n",
       "    </tr>\n",
       "    <tr>\n",
       "      <th>75%</th>\n",
       "      <td>1919.750000</td>\n",
       "      <td>5.070000</td>\n",
       "      <td>150.000000</td>\n",
       "      <td>10.000000</td>\n",
       "      <td>1897.750000</td>\n",
       "    </tr>\n",
       "    <tr>\n",
       "      <th>max</th>\n",
       "      <td>2554.000000</td>\n",
       "      <td>9.300000</td>\n",
       "      <td>275.000000</td>\n",
       "      <td>729.000000</td>\n",
       "      <td>2530.000000</td>\n",
       "    </tr>\n",
       "  </tbody>\n",
       "</table>\n",
       "</div>"
      ],
      "text/plain": [
       "                id   Quantity (oz)   Quantity (ml or g)   Duration (Minutes)  \\\n",
       "count  2530.000000     2530.000000          2530.000000          2530.000000   \n",
       "mean   1281.190909        3.702921           109.503953            10.089328   \n",
       "std     736.290294        1.490045            44.078153            16.122993   \n",
       "min       2.000000        0.340000            10.000000             0.000000   \n",
       "25%     644.250000        2.540000            75.000000             8.000000   \n",
       "50%    1280.500000        3.380000           100.000000             9.000000   \n",
       "75%    1919.750000        5.070000           150.000000            10.000000   \n",
       "max    2554.000000        9.300000           275.000000           729.000000   \n",
       "\n",
       "           row_num  \n",
       "count  2530.000000  \n",
       "mean   1265.500000  \n",
       "std     730.492414  \n",
       "min       1.000000  \n",
       "25%     633.250000  \n",
       "50%    1265.500000  \n",
       "75%    1897.750000  \n",
       "max    2530.000000  "
      ]
     },
     "execution_count": 9,
     "metadata": {},
     "output_type": "execute_result"
    }
   ],
   "source": [
    "df.describe()"
   ]
  },
  {
   "cell_type": "code",
   "execution_count": 10,
   "metadata": {},
   "outputs": [
    {
     "name": "stdout",
     "output_type": "stream",
     "text": [
      "Rows: 2530\n"
     ]
    }
   ],
   "source": [
    "print('Rows: ' + str(df.shape[0]) )"
   ]
  },
  {
   "cell_type": "code",
   "execution_count": 11,
   "metadata": {},
   "outputs": [
    {
     "name": "stdout",
     "output_type": "stream",
     "text": [
      "<class 'pandas.core.frame.DataFrame'>\n",
      "RangeIndex: 2530 entries, 0 to 2529\n",
      "Data columns (total 12 columns):\n",
      "id                     2530 non-null int64\n",
      " Start Time            2530 non-null object\n",
      " End Time              2530 non-null object\n",
      " Feed Type             2530 non-null object\n",
      " Quantity (oz)         2530 non-null float64\n",
      " Quantity (ml or g)    2530 non-null int64\n",
      " Notes                 82 non-null object\n",
      " Duration (Minutes)    2530 non-null int64\n",
      " Food Type             2529 non-null object\n",
      " Unit                  2530 non-null object\n",
      " Bottle Type           2483 non-null object\n",
      "row_num                2530 non-null int64\n",
      "dtypes: float64(1), int64(4), object(7)\n",
      "memory usage: 237.3+ KB\n",
      "None\n"
     ]
    }
   ],
   "source": [
    "print(df.info())"
   ]
  },
  {
   "cell_type": "markdown",
   "metadata": {},
   "source": [
    "## Feeds are in reverse order in the data"
   ]
  },
  {
   "cell_type": "code",
   "execution_count": 12,
   "metadata": {},
   "outputs": [
    {
     "data": {
      "text/html": [
       "<div>\n",
       "<style scoped>\n",
       "    .dataframe tbody tr th:only-of-type {\n",
       "        vertical-align: middle;\n",
       "    }\n",
       "\n",
       "    .dataframe tbody tr th {\n",
       "        vertical-align: top;\n",
       "    }\n",
       "\n",
       "    .dataframe thead th {\n",
       "        text-align: right;\n",
       "    }\n",
       "</style>\n",
       "<table border=\"1\" class=\"dataframe\">\n",
       "  <thead>\n",
       "    <tr style=\"text-align: right;\">\n",
       "      <th></th>\n",
       "      <th>id</th>\n",
       "      <th>Start Time</th>\n",
       "      <th>End Time</th>\n",
       "      <th>Feed Type</th>\n",
       "      <th>Quantity (oz)</th>\n",
       "      <th>Quantity (ml or g)</th>\n",
       "      <th>Notes</th>\n",
       "      <th>Duration (Minutes)</th>\n",
       "      <th>Food Type</th>\n",
       "      <th>Unit</th>\n",
       "      <th>Bottle Type</th>\n",
       "      <th>row_num</th>\n",
       "    </tr>\n",
       "  </thead>\n",
       "  <tbody>\n",
       "    <tr>\n",
       "      <th>0</th>\n",
       "      <td>2554</td>\n",
       "      <td>18:25:57 03-04-2018</td>\n",
       "      <td>18:40:57 03-04-2018</td>\n",
       "      <td>Bottle</td>\n",
       "      <td>5.07</td>\n",
       "      <td>150</td>\n",
       "      <td>NaN</td>\n",
       "      <td>15</td>\n",
       "      <td>Liquid</td>\n",
       "      <td>METRIC</td>\n",
       "      <td>Formula</td>\n",
       "      <td>1</td>\n",
       "    </tr>\n",
       "    <tr>\n",
       "      <th>1</th>\n",
       "      <td>2553</td>\n",
       "      <td>13:58:16 03-04-2018</td>\n",
       "      <td>14:07:16 03-04-2018</td>\n",
       "      <td>Bottle</td>\n",
       "      <td>4.06</td>\n",
       "      <td>120</td>\n",
       "      <td>NaN</td>\n",
       "      <td>9</td>\n",
       "      <td>Liquid</td>\n",
       "      <td>METRIC</td>\n",
       "      <td>Formula</td>\n",
       "      <td>2</td>\n",
       "    </tr>\n",
       "    <tr>\n",
       "      <th>2</th>\n",
       "      <td>2551</td>\n",
       "      <td>07:00:58 03-04-2018</td>\n",
       "      <td>07:13:06 03-04-2018</td>\n",
       "      <td>Bottle</td>\n",
       "      <td>4.06</td>\n",
       "      <td>120</td>\n",
       "      <td>NaN</td>\n",
       "      <td>12</td>\n",
       "      <td>Liquid</td>\n",
       "      <td>METRIC</td>\n",
       "      <td>Formula</td>\n",
       "      <td>3</td>\n",
       "    </tr>\n",
       "    <tr>\n",
       "      <th>3</th>\n",
       "      <td>2550</td>\n",
       "      <td>02:44:10 03-04-2018</td>\n",
       "      <td>02:52:49 03-04-2018</td>\n",
       "      <td>Bottle</td>\n",
       "      <td>4.06</td>\n",
       "      <td>120</td>\n",
       "      <td>NaN</td>\n",
       "      <td>8</td>\n",
       "      <td>Liquid</td>\n",
       "      <td>METRIC</td>\n",
       "      <td>Formula</td>\n",
       "      <td>4</td>\n",
       "    </tr>\n",
       "    <tr>\n",
       "      <th>4</th>\n",
       "      <td>2549</td>\n",
       "      <td>18:35:31 03-03-2018</td>\n",
       "      <td>18:45:31 03-03-2018</td>\n",
       "      <td>Bottle</td>\n",
       "      <td>5.07</td>\n",
       "      <td>150</td>\n",
       "      <td>NaN</td>\n",
       "      <td>10</td>\n",
       "      <td>Liquid</td>\n",
       "      <td>METRIC</td>\n",
       "      <td>Formula</td>\n",
       "      <td>5</td>\n",
       "    </tr>\n",
       "  </tbody>\n",
       "</table>\n",
       "</div>"
      ],
      "text/plain": [
       "     id           Start Time             End Time  Feed Type   Quantity (oz)  \\\n",
       "0  2554  18:25:57 03-04-2018  18:40:57 03-04-2018     Bottle            5.07   \n",
       "1  2553  13:58:16 03-04-2018  14:07:16 03-04-2018     Bottle            4.06   \n",
       "2  2551  07:00:58 03-04-2018  07:13:06 03-04-2018     Bottle            4.06   \n",
       "3  2550  02:44:10 03-04-2018  02:52:49 03-04-2018     Bottle            4.06   \n",
       "4  2549  18:35:31 03-03-2018  18:45:31 03-03-2018     Bottle            5.07   \n",
       "\n",
       "    Quantity (ml or g)  Notes   Duration (Minutes)  Food Type    Unit  \\\n",
       "0                  150    NaN                   15     Liquid  METRIC   \n",
       "1                  120    NaN                    9     Liquid  METRIC   \n",
       "2                  120    NaN                   12     Liquid  METRIC   \n",
       "3                  120    NaN                    8     Liquid  METRIC   \n",
       "4                  150    NaN                   10     Liquid  METRIC   \n",
       "\n",
       "   Bottle Type  row_num  \n",
       "0      Formula        1  \n",
       "1      Formula        2  \n",
       "2      Formula        3  \n",
       "3      Formula        4  \n",
       "4      Formula        5  "
      ]
     },
     "execution_count": 12,
     "metadata": {},
     "output_type": "execute_result"
    }
   ],
   "source": [
    "df.head(5)"
   ]
  },
  {
   "cell_type": "markdown",
   "metadata": {},
   "source": [
    "## Time range of feeds "
   ]
  },
  {
   "cell_type": "code",
   "execution_count": 13,
   "metadata": {},
   "outputs": [],
   "source": [
    "df[' Start Time'] = df[' Start Time'].astype('datetime64')"
   ]
  },
  {
   "cell_type": "code",
   "execution_count": 14,
   "metadata": {},
   "outputs": [],
   "source": [
    "start_date = min(df[' Start Time'])\n",
    "end_date = max(df[' Start Time']) "
   ]
  },
  {
   "cell_type": "markdown",
   "metadata": {
    "variables": {
     "end_date": "Timestamp(&#39;2018-03-04 18:25:57&#39;)",
     "start_date": "Timestamp(&#39;2017-04-26 09:00:46&#39;)"
    }
   },
   "source": [
    "The earliest feed happens on {{start_date}} \n",
    "The final feed happens on {{end_date}}"
   ]
  },
  {
   "cell_type": "markdown",
   "metadata": {},
   "source": [
    "At some point we started feeding solid food"
   ]
  },
  {
   "cell_type": "code",
   "execution_count": 15,
   "metadata": {},
   "outputs": [
    {
     "data": {
      "text/plain": [
       "array(['Liquid', 'Yogurt', 'Vege', 'Dairy', 'Bread; Fruit; Yogurt',\n",
       "       'Meat; Vege', 'Fruit; Yogurt', 'Cereal', 'Fruit',\n",
       "       'Bread; Fruit; Vege', 'Meat', nan, 'Bread; Dairy; Fruit',\n",
       "       'Fruit; Vege', 'Bread; Fruit', 'Fruit; Meat', 'Bread'],\n",
       "      dtype=object)"
      ]
     },
     "execution_count": 15,
     "metadata": {},
     "output_type": "execute_result"
    }
   ],
   "source": [
    "df[' Food Type'].unique()"
   ]
  },
  {
   "cell_type": "markdown",
   "metadata": {},
   "source": [
    "## A small number of feeds are not bottle feeds"
   ]
  },
  {
   "cell_type": "code",
   "execution_count": 16,
   "metadata": {},
   "outputs": [
    {
     "data": {
      "text/plain": [
       "array(['Formula', nan], dtype=object)"
      ]
     },
     "execution_count": 16,
     "metadata": {},
     "output_type": "execute_result"
    }
   ],
   "source": [
    "df[' Bottle Type'].unique()"
   ]
  },
  {
   "cell_type": "markdown",
   "metadata": {},
   "source": [
    "These are the times when solid feeds were recorded"
   ]
  },
  {
   "cell_type": "code",
   "execution_count": 17,
   "metadata": {},
   "outputs": [
    {
     "data": {
      "text/plain": [
       "array(['Liquid', 'Yogurt', 'Vege', 'Dairy', 'Bread; Fruit; Yogurt',\n",
       "       'Meat; Vege', 'Fruit; Yogurt', 'Cereal', 'Fruit',\n",
       "       'Bread; Fruit; Vege', 'Meat', nan, 'Bread; Dairy; Fruit',\n",
       "       'Fruit; Vege', 'Bread; Fruit', 'Fruit; Meat', 'Bread'],\n",
       "      dtype=object)"
      ]
     },
     "execution_count": 17,
     "metadata": {},
     "output_type": "execute_result"
    }
   ],
   "source": [
    "df[df[' Bottle Type'].isnull()][' Food Type'].unique()"
   ]
  },
  {
   "cell_type": "markdown",
   "metadata": {},
   "source": [
    "## Create a column to identify Liquid and Solid Feeds"
   ]
  },
  {
   "cell_type": "code",
   "execution_count": 18,
   "metadata": {},
   "outputs": [
    {
     "name": "stdout",
     "output_type": "stream",
     "text": [
      "['Yogurt' 'Vege' 'Dairy' 'Bread; Fruit; Yogurt' 'Meat; Vege'\n",
      " 'Fruit; Yogurt' 'Cereal' 'Fruit' 'Bread; Fruit; Vege' 'Meat' nan\n",
      " 'Bread; Dairy; Fruit' 'Fruit; Vege' 'Bread; Fruit' 'Fruit; Meat' 'Bread']\n"
     ]
    }
   ],
   "source": [
    "non_liquid_foods = df[df[' Bottle Type'].isnull()][' Food Type'].unique()\n",
    "non_liquid_foods = non_liquid_foods[non_liquid_foods!='Liquid']\n",
    "print(non_liquid_foods)\n"
   ]
  },
  {
   "cell_type": "code",
   "execution_count": 19,
   "metadata": {},
   "outputs": [],
   "source": [
    "df['is_liquid']=True\n",
    "df.loc[df[' Food Type'].isin(non_liquid_foods), 'is_liquid'] = False"
   ]
  },
  {
   "cell_type": "code",
   "execution_count": 20,
   "metadata": {},
   "outputs": [
    {
     "data": {
      "text/html": [
       "<div>\n",
       "<style scoped>\n",
       "    .dataframe tbody tr th:only-of-type {\n",
       "        vertical-align: middle;\n",
       "    }\n",
       "\n",
       "    .dataframe tbody tr th {\n",
       "        vertical-align: top;\n",
       "    }\n",
       "\n",
       "    .dataframe thead th {\n",
       "        text-align: right;\n",
       "    }\n",
       "</style>\n",
       "<table border=\"1\" class=\"dataframe\">\n",
       "  <thead>\n",
       "    <tr style=\"text-align: right;\">\n",
       "      <th></th>\n",
       "      <th>id</th>\n",
       "      <th>Start Time</th>\n",
       "      <th>End Time</th>\n",
       "      <th>Feed Type</th>\n",
       "      <th>Quantity (oz)</th>\n",
       "      <th>Quantity (ml or g)</th>\n",
       "      <th>Notes</th>\n",
       "      <th>Duration (Minutes)</th>\n",
       "      <th>Food Type</th>\n",
       "      <th>Unit</th>\n",
       "      <th>Bottle Type</th>\n",
       "      <th>row_num</th>\n",
       "      <th>is_liquid</th>\n",
       "    </tr>\n",
       "  </thead>\n",
       "  <tbody>\n",
       "    <tr>\n",
       "      <th>0</th>\n",
       "      <td>2554</td>\n",
       "      <td>2018-03-04 18:25:57</td>\n",
       "      <td>18:40:57 03-04-2018</td>\n",
       "      <td>Bottle</td>\n",
       "      <td>5.07</td>\n",
       "      <td>150</td>\n",
       "      <td>NaN</td>\n",
       "      <td>15</td>\n",
       "      <td>Liquid</td>\n",
       "      <td>METRIC</td>\n",
       "      <td>Formula</td>\n",
       "      <td>1</td>\n",
       "      <td>True</td>\n",
       "    </tr>\n",
       "    <tr>\n",
       "      <th>1</th>\n",
       "      <td>2553</td>\n",
       "      <td>2018-03-04 13:58:16</td>\n",
       "      <td>14:07:16 03-04-2018</td>\n",
       "      <td>Bottle</td>\n",
       "      <td>4.06</td>\n",
       "      <td>120</td>\n",
       "      <td>NaN</td>\n",
       "      <td>9</td>\n",
       "      <td>Liquid</td>\n",
       "      <td>METRIC</td>\n",
       "      <td>Formula</td>\n",
       "      <td>2</td>\n",
       "      <td>True</td>\n",
       "    </tr>\n",
       "    <tr>\n",
       "      <th>2</th>\n",
       "      <td>2551</td>\n",
       "      <td>2018-03-04 07:00:58</td>\n",
       "      <td>07:13:06 03-04-2018</td>\n",
       "      <td>Bottle</td>\n",
       "      <td>4.06</td>\n",
       "      <td>120</td>\n",
       "      <td>NaN</td>\n",
       "      <td>12</td>\n",
       "      <td>Liquid</td>\n",
       "      <td>METRIC</td>\n",
       "      <td>Formula</td>\n",
       "      <td>3</td>\n",
       "      <td>True</td>\n",
       "    </tr>\n",
       "    <tr>\n",
       "      <th>3</th>\n",
       "      <td>2550</td>\n",
       "      <td>2018-03-04 02:44:10</td>\n",
       "      <td>02:52:49 03-04-2018</td>\n",
       "      <td>Bottle</td>\n",
       "      <td>4.06</td>\n",
       "      <td>120</td>\n",
       "      <td>NaN</td>\n",
       "      <td>8</td>\n",
       "      <td>Liquid</td>\n",
       "      <td>METRIC</td>\n",
       "      <td>Formula</td>\n",
       "      <td>4</td>\n",
       "      <td>True</td>\n",
       "    </tr>\n",
       "    <tr>\n",
       "      <th>4</th>\n",
       "      <td>2549</td>\n",
       "      <td>2018-03-03 18:35:31</td>\n",
       "      <td>18:45:31 03-03-2018</td>\n",
       "      <td>Bottle</td>\n",
       "      <td>5.07</td>\n",
       "      <td>150</td>\n",
       "      <td>NaN</td>\n",
       "      <td>10</td>\n",
       "      <td>Liquid</td>\n",
       "      <td>METRIC</td>\n",
       "      <td>Formula</td>\n",
       "      <td>5</td>\n",
       "      <td>True</td>\n",
       "    </tr>\n",
       "    <tr>\n",
       "      <th>5</th>\n",
       "      <td>2548</td>\n",
       "      <td>2018-03-03 14:23:24</td>\n",
       "      <td>14:32:24 03-03-2018</td>\n",
       "      <td>Bottle</td>\n",
       "      <td>4.06</td>\n",
       "      <td>120</td>\n",
       "      <td>NaN</td>\n",
       "      <td>9</td>\n",
       "      <td>Liquid</td>\n",
       "      <td>METRIC</td>\n",
       "      <td>Formula</td>\n",
       "      <td>6</td>\n",
       "      <td>True</td>\n",
       "    </tr>\n",
       "    <tr>\n",
       "      <th>6</th>\n",
       "      <td>2547</td>\n",
       "      <td>2018-03-03 09:33:36</td>\n",
       "      <td>09:42:36 03-03-2018</td>\n",
       "      <td>Bottle</td>\n",
       "      <td>4.06</td>\n",
       "      <td>120</td>\n",
       "      <td>NaN</td>\n",
       "      <td>9</td>\n",
       "      <td>Liquid</td>\n",
       "      <td>METRIC</td>\n",
       "      <td>Formula</td>\n",
       "      <td>7</td>\n",
       "      <td>True</td>\n",
       "    </tr>\n",
       "    <tr>\n",
       "      <th>7</th>\n",
       "      <td>2546</td>\n",
       "      <td>2018-03-03 01:08:59</td>\n",
       "      <td>01:22:09 03-03-2018</td>\n",
       "      <td>Bottle</td>\n",
       "      <td>5.07</td>\n",
       "      <td>150</td>\n",
       "      <td>NaN</td>\n",
       "      <td>13</td>\n",
       "      <td>Liquid</td>\n",
       "      <td>METRIC</td>\n",
       "      <td>Formula</td>\n",
       "      <td>8</td>\n",
       "      <td>True</td>\n",
       "    </tr>\n",
       "    <tr>\n",
       "      <th>8</th>\n",
       "      <td>2544</td>\n",
       "      <td>2018-03-02 19:00:29</td>\n",
       "      <td>19:07:29 03-02-2018</td>\n",
       "      <td>Bottle</td>\n",
       "      <td>4.06</td>\n",
       "      <td>120</td>\n",
       "      <td>NaN</td>\n",
       "      <td>7</td>\n",
       "      <td>Liquid</td>\n",
       "      <td>METRIC</td>\n",
       "      <td>Formula</td>\n",
       "      <td>9</td>\n",
       "      <td>True</td>\n",
       "    </tr>\n",
       "    <tr>\n",
       "      <th>9</th>\n",
       "      <td>2545</td>\n",
       "      <td>2018-03-02 10:30:42</td>\n",
       "      <td>10:45:42 03-02-2018</td>\n",
       "      <td>Bottle</td>\n",
       "      <td>3.04</td>\n",
       "      <td>90</td>\n",
       "      <td>NaN</td>\n",
       "      <td>15</td>\n",
       "      <td>Liquid</td>\n",
       "      <td>METRIC</td>\n",
       "      <td>Formula</td>\n",
       "      <td>10</td>\n",
       "      <td>True</td>\n",
       "    </tr>\n",
       "  </tbody>\n",
       "</table>\n",
       "</div>"
      ],
      "text/plain": [
       "     id          Start Time             End Time  Feed Type   Quantity (oz)  \\\n",
       "0  2554 2018-03-04 18:25:57  18:40:57 03-04-2018     Bottle            5.07   \n",
       "1  2553 2018-03-04 13:58:16  14:07:16 03-04-2018     Bottle            4.06   \n",
       "2  2551 2018-03-04 07:00:58  07:13:06 03-04-2018     Bottle            4.06   \n",
       "3  2550 2018-03-04 02:44:10  02:52:49 03-04-2018     Bottle            4.06   \n",
       "4  2549 2018-03-03 18:35:31  18:45:31 03-03-2018     Bottle            5.07   \n",
       "5  2548 2018-03-03 14:23:24  14:32:24 03-03-2018     Bottle            4.06   \n",
       "6  2547 2018-03-03 09:33:36  09:42:36 03-03-2018     Bottle            4.06   \n",
       "7  2546 2018-03-03 01:08:59  01:22:09 03-03-2018     Bottle            5.07   \n",
       "8  2544 2018-03-02 19:00:29  19:07:29 03-02-2018     Bottle            4.06   \n",
       "9  2545 2018-03-02 10:30:42  10:45:42 03-02-2018     Bottle            3.04   \n",
       "\n",
       "    Quantity (ml or g)  Notes   Duration (Minutes)  Food Type    Unit  \\\n",
       "0                  150    NaN                   15     Liquid  METRIC   \n",
       "1                  120    NaN                    9     Liquid  METRIC   \n",
       "2                  120    NaN                   12     Liquid  METRIC   \n",
       "3                  120    NaN                    8     Liquid  METRIC   \n",
       "4                  150    NaN                   10     Liquid  METRIC   \n",
       "5                  120    NaN                    9     Liquid  METRIC   \n",
       "6                  120    NaN                    9     Liquid  METRIC   \n",
       "7                  150    NaN                   13     Liquid  METRIC   \n",
       "8                  120    NaN                    7     Liquid  METRIC   \n",
       "9                   90    NaN                   15     Liquid  METRIC   \n",
       "\n",
       "   Bottle Type  row_num  is_liquid  \n",
       "0      Formula        1       True  \n",
       "1      Formula        2       True  \n",
       "2      Formula        3       True  \n",
       "3      Formula        4       True  \n",
       "4      Formula        5       True  \n",
       "5      Formula        6       True  \n",
       "6      Formula        7       True  \n",
       "7      Formula        8       True  \n",
       "8      Formula        9       True  \n",
       "9      Formula       10       True  "
      ]
     },
     "execution_count": 20,
     "metadata": {},
     "output_type": "execute_result"
    }
   ],
   "source": [
    "df.head(10)"
   ]
  },
  {
   "cell_type": "markdown",
   "metadata": {},
   "source": [
    "## Quantity of Feed"
   ]
  },
  {
   "cell_type": "code",
   "execution_count": 21,
   "metadata": {},
   "outputs": [
    {
     "name": "stdout",
     "output_type": "stream",
     "text": [
      "Min quantity is: 10\n",
      "Max quantity is: 275\n"
     ]
    }
   ],
   "source": [
    "max_quantity = max(df[' Quantity (ml or g)'] )\n",
    "min_quantity = min(df[' Quantity (ml or g)'] )\n",
    "print('Min quantity is: ' + str(min_quantity))\n",
    "print('Max quantity is: ' + str(max_quantity))"
   ]
  },
  {
   "cell_type": "code",
   "execution_count": 22,
   "metadata": {},
   "outputs": [],
   "source": [
    "def bins_labels(bins, **kwargs):\n",
    "    '''Create a properly aligned set of bin ticks for a distplot\n",
    "    \n",
    "    Args:\n",
    "        bins : range describing the bins\n",
    "\n",
    "    Raises:\n",
    "\n",
    "    Returns:\n",
    "    '''\n",
    "    bin_w = (max(bins) - min(bins)) / (len(bins) - 1)\n",
    "    plt.xticks(np.arange(min(bins)+bin_w/2, max(bins), bin_w), bins, **kwargs)\n",
    "    plt.xlim(bins[0], bins[-1])"
   ]
  },
  {
   "cell_type": "code",
   "execution_count": 23,
   "metadata": {},
   "outputs": [
    {
     "data": {
      "image/png": "[encoded data removed]",
      "text/plain": [
       "<Figure size 1080x595.44 with 1 Axes>"
      ]
     },
     "metadata": {},
     "output_type": "display_data"
    }
   ],
   "source": [
    "sns.set_style('whitegrid')\n",
    "\n",
    "# configure plot font family to Arial\n",
    "#plt.rcParams['font.family'] = 'Arial'\n",
    "matplotlib.rcParams['mathtext.bf'] = 'Arial:bold'\n",
    "matplotlib.rcParams['mathtext.it'] = 'Arial:italic'\n",
    "\n",
    "\n",
    "sns.set(rc={'figure.figsize':(15,8.27),\n",
    "            'axes.facecolor':'white', \n",
    "            'figure.facecolor':'white'})\n",
    "\n",
    "bins = range(0, max_quantity,10)\n",
    "\n",
    "ax = sns.distplot(df[' Quantity (ml or g)'] , \n",
    "                   kde=False, \n",
    "                   bins = bins, \n",
    "                   color = 'darkblue',\n",
    "                   hist_kws={\"rwidth\": 0.9})\n",
    "\n",
    "\n",
    "#ax.set(xticks=np.arange(0,max_quantity,25))\n",
    "\n",
    "# Grids and lines\n",
    "ax.xaxis.grid() # remove vertical grid\n",
    "ax.spines['right'].set_visible(False)\n",
    "ax.spines['bottom'].set_visible(False)\n",
    "ax.spines['left'].set_visible(False)\n",
    "\n",
    "# X axis\n",
    "bins_labels(bins)\n",
    "ax.tick_params(bottom='on')\n",
    "ax.set_xlabel('Quantity (ml)',fontsize=16)\n",
    "ax.xaxis.labelpad = 20\n",
    "\n",
    "for item in ax.get_xticklabels():\n",
    "    item.set_fontsize(14)\n",
    "\n",
    "    \n",
    "# Y Axis\n",
    "ax.set(ylim=(0, 500))\n",
    "for item in ax.get_yticklabels():\n",
    "    item.set_fontsize(14)\n",
    "\n",
    "# Titles\n",
    "ax.set_title('Most Frequent Feed Volumes in the First Year'\n",
    "             , pad=80\n",
    "             , fontsize=24\n",
    "             , loc='left')\n",
    "ax.annotate(\"Total volume in the year was \" \n",
    "            + '{:,}'.format(round(sum(df[' Quantity (ml or g)'])/1000 ))+ ' litres\\n'\n",
    "            + \"This was mostly of two bottle sizes\", \n",
    "            xy=(0,1), \n",
    "            xycoords=\"axes fraction\",\n",
    "            xytext=(0,60), \n",
    "            textcoords=\"offset points\",\n",
    "            ha=\"left\", va=\"top\",\n",
    "            fontsize=14)\n",
    "\n",
    "\n",
    "ax.text(200, -100,\n",
    "         'Data includes bottle and solid feeds',\n",
    "         fontsize=10,\n",
    "         color='gray')\n",
    "\n",
    "\n",
    "plt.show()"
   ]
  },
  {
   "cell_type": "markdown",
   "metadata": {},
   "source": [
    "# Pattern of Feed Types Across the year"
   ]
  },
  {
   "cell_type": "code",
   "execution_count": 24,
   "metadata": {},
   "outputs": [
    {
     "data": {
      "text/html": [
       "<div>\n",
       "<style scoped>\n",
       "    .dataframe tbody tr th:only-of-type {\n",
       "        vertical-align: middle;\n",
       "    }\n",
       "\n",
       "    .dataframe tbody tr th {\n",
       "        vertical-align: top;\n",
       "    }\n",
       "\n",
       "    .dataframe thead th {\n",
       "        text-align: right;\n",
       "    }\n",
       "</style>\n",
       "<table border=\"1\" class=\"dataframe\">\n",
       "  <thead>\n",
       "    <tr style=\"text-align: right;\">\n",
       "      <th></th>\n",
       "      <th>id</th>\n",
       "      <th>Start Time</th>\n",
       "      <th>End Time</th>\n",
       "      <th>Feed Type</th>\n",
       "      <th>Quantity (oz)</th>\n",
       "      <th>Quantity (ml or g)</th>\n",
       "      <th>Notes</th>\n",
       "      <th>Duration (Minutes)</th>\n",
       "      <th>Food Type</th>\n",
       "      <th>Unit</th>\n",
       "      <th>Bottle Type</th>\n",
       "      <th>row_num</th>\n",
       "      <th>is_liquid</th>\n",
       "    </tr>\n",
       "  </thead>\n",
       "  <tbody>\n",
       "    <tr>\n",
       "      <th>0</th>\n",
       "      <td>2554</td>\n",
       "      <td>2018-03-04 18:25:57</td>\n",
       "      <td>18:40:57 03-04-2018</td>\n",
       "      <td>Bottle</td>\n",
       "      <td>5.07</td>\n",
       "      <td>150</td>\n",
       "      <td>NaN</td>\n",
       "      <td>15</td>\n",
       "      <td>Liquid</td>\n",
       "      <td>METRIC</td>\n",
       "      <td>Formula</td>\n",
       "      <td>1</td>\n",
       "      <td>True</td>\n",
       "    </tr>\n",
       "    <tr>\n",
       "      <th>1</th>\n",
       "      <td>2553</td>\n",
       "      <td>2018-03-04 13:58:16</td>\n",
       "      <td>14:07:16 03-04-2018</td>\n",
       "      <td>Bottle</td>\n",
       "      <td>4.06</td>\n",
       "      <td>120</td>\n",
       "      <td>NaN</td>\n",
       "      <td>9</td>\n",
       "      <td>Liquid</td>\n",
       "      <td>METRIC</td>\n",
       "      <td>Formula</td>\n",
       "      <td>2</td>\n",
       "      <td>True</td>\n",
       "    </tr>\n",
       "    <tr>\n",
       "      <th>2</th>\n",
       "      <td>2551</td>\n",
       "      <td>2018-03-04 07:00:58</td>\n",
       "      <td>07:13:06 03-04-2018</td>\n",
       "      <td>Bottle</td>\n",
       "      <td>4.06</td>\n",
       "      <td>120</td>\n",
       "      <td>NaN</td>\n",
       "      <td>12</td>\n",
       "      <td>Liquid</td>\n",
       "      <td>METRIC</td>\n",
       "      <td>Formula</td>\n",
       "      <td>3</td>\n",
       "      <td>True</td>\n",
       "    </tr>\n",
       "  </tbody>\n",
       "</table>\n",
       "</div>"
      ],
      "text/plain": [
       "     id          Start Time             End Time  Feed Type   Quantity (oz)  \\\n",
       "0  2554 2018-03-04 18:25:57  18:40:57 03-04-2018     Bottle            5.07   \n",
       "1  2553 2018-03-04 13:58:16  14:07:16 03-04-2018     Bottle            4.06   \n",
       "2  2551 2018-03-04 07:00:58  07:13:06 03-04-2018     Bottle            4.06   \n",
       "\n",
       "    Quantity (ml or g)  Notes   Duration (Minutes)  Food Type    Unit  \\\n",
       "0                  150    NaN                   15     Liquid  METRIC   \n",
       "1                  120    NaN                    9     Liquid  METRIC   \n",
       "2                  120    NaN                   12     Liquid  METRIC   \n",
       "\n",
       "   Bottle Type  row_num  is_liquid  \n",
       "0      Formula        1       True  \n",
       "1      Formula        2       True  \n",
       "2      Formula        3       True  "
      ]
     },
     "execution_count": 24,
     "metadata": {},
     "output_type": "execute_result"
    }
   ],
   "source": [
    "df.head(3)"
   ]
  },
  {
   "cell_type": "markdown",
   "metadata": {},
   "source": [
    "Derive new columns to visualize feeds using\n",
    "* month and week of the year \n",
    "* time stamp of when feed occured\n",
    "* whether feed was during the night or day"
   ]
  },
  {
   "cell_type": "code",
   "execution_count": 25,
   "metadata": {},
   "outputs": [
    {
     "data": {
      "text/html": [
       "<div>\n",
       "<style scoped>\n",
       "    .dataframe tbody tr th:only-of-type {\n",
       "        vertical-align: middle;\n",
       "    }\n",
       "\n",
       "    .dataframe tbody tr th {\n",
       "        vertical-align: top;\n",
       "    }\n",
       "\n",
       "    .dataframe thead th {\n",
       "        text-align: right;\n",
       "    }\n",
       "</style>\n",
       "<table border=\"1\" class=\"dataframe\">\n",
       "  <thead>\n",
       "    <tr style=\"text-align: right;\">\n",
       "      <th></th>\n",
       "      <th>id</th>\n",
       "      <th>Start Time</th>\n",
       "      <th>End Time</th>\n",
       "      <th>Feed Type</th>\n",
       "      <th>Quantity (oz)</th>\n",
       "      <th>Quantity (ml or g)</th>\n",
       "      <th>Notes</th>\n",
       "      <th>Duration (Minutes)</th>\n",
       "      <th>Food Type</th>\n",
       "      <th>Unit</th>\n",
       "      <th>Bottle Type</th>\n",
       "      <th>row_num</th>\n",
       "      <th>is_liquid</th>\n",
       "      <th>start_time_yymmww_cln</th>\n",
       "      <th>start_time_yymmdd_cln</th>\n",
       "      <th>start_time_cln</th>\n",
       "      <th>start_time_hr_cln</th>\n",
       "    </tr>\n",
       "  </thead>\n",
       "  <tbody>\n",
       "    <tr>\n",
       "      <th>0</th>\n",
       "      <td>2554</td>\n",
       "      <td>2018-03-04 18:25:57</td>\n",
       "      <td>18:40:57 03-04-2018</td>\n",
       "      <td>Bottle</td>\n",
       "      <td>5.07</td>\n",
       "      <td>150</td>\n",
       "      <td>NaN</td>\n",
       "      <td>15</td>\n",
       "      <td>Liquid</td>\n",
       "      <td>METRIC</td>\n",
       "      <td>Formula</td>\n",
       "      <td>1</td>\n",
       "      <td>True</td>\n",
       "      <td>2018-03-09</td>\n",
       "      <td>2018-03-04</td>\n",
       "      <td>18:25:57</td>\n",
       "      <td>18</td>\n",
       "    </tr>\n",
       "    <tr>\n",
       "      <th>1</th>\n",
       "      <td>2553</td>\n",
       "      <td>2018-03-04 13:58:16</td>\n",
       "      <td>14:07:16 03-04-2018</td>\n",
       "      <td>Bottle</td>\n",
       "      <td>4.06</td>\n",
       "      <td>120</td>\n",
       "      <td>NaN</td>\n",
       "      <td>9</td>\n",
       "      <td>Liquid</td>\n",
       "      <td>METRIC</td>\n",
       "      <td>Formula</td>\n",
       "      <td>2</td>\n",
       "      <td>True</td>\n",
       "      <td>2018-03-09</td>\n",
       "      <td>2018-03-04</td>\n",
       "      <td>13:58:16</td>\n",
       "      <td>13</td>\n",
       "    </tr>\n",
       "    <tr>\n",
       "      <th>2</th>\n",
       "      <td>2551</td>\n",
       "      <td>2018-03-04 07:00:58</td>\n",
       "      <td>07:13:06 03-04-2018</td>\n",
       "      <td>Bottle</td>\n",
       "      <td>4.06</td>\n",
       "      <td>120</td>\n",
       "      <td>NaN</td>\n",
       "      <td>12</td>\n",
       "      <td>Liquid</td>\n",
       "      <td>METRIC</td>\n",
       "      <td>Formula</td>\n",
       "      <td>3</td>\n",
       "      <td>True</td>\n",
       "      <td>2018-03-09</td>\n",
       "      <td>2018-03-04</td>\n",
       "      <td>07:00:58</td>\n",
       "      <td>7</td>\n",
       "    </tr>\n",
       "    <tr>\n",
       "      <th>3</th>\n",
       "      <td>2550</td>\n",
       "      <td>2018-03-04 02:44:10</td>\n",
       "      <td>02:52:49 03-04-2018</td>\n",
       "      <td>Bottle</td>\n",
       "      <td>4.06</td>\n",
       "      <td>120</td>\n",
       "      <td>NaN</td>\n",
       "      <td>8</td>\n",
       "      <td>Liquid</td>\n",
       "      <td>METRIC</td>\n",
       "      <td>Formula</td>\n",
       "      <td>4</td>\n",
       "      <td>True</td>\n",
       "      <td>2018-03-09</td>\n",
       "      <td>2018-03-04</td>\n",
       "      <td>02:44:10</td>\n",
       "      <td>2</td>\n",
       "    </tr>\n",
       "    <tr>\n",
       "      <th>4</th>\n",
       "      <td>2549</td>\n",
       "      <td>2018-03-03 18:35:31</td>\n",
       "      <td>18:45:31 03-03-2018</td>\n",
       "      <td>Bottle</td>\n",
       "      <td>5.07</td>\n",
       "      <td>150</td>\n",
       "      <td>NaN</td>\n",
       "      <td>10</td>\n",
       "      <td>Liquid</td>\n",
       "      <td>METRIC</td>\n",
       "      <td>Formula</td>\n",
       "      <td>5</td>\n",
       "      <td>True</td>\n",
       "      <td>2018-03-09</td>\n",
       "      <td>2018-03-03</td>\n",
       "      <td>18:35:31</td>\n",
       "      <td>18</td>\n",
       "    </tr>\n",
       "  </tbody>\n",
       "</table>\n",
       "</div>"
      ],
      "text/plain": [
       "     id          Start Time             End Time  Feed Type   Quantity (oz)  \\\n",
       "0  2554 2018-03-04 18:25:57  18:40:57 03-04-2018     Bottle            5.07   \n",
       "1  2553 2018-03-04 13:58:16  14:07:16 03-04-2018     Bottle            4.06   \n",
       "2  2551 2018-03-04 07:00:58  07:13:06 03-04-2018     Bottle            4.06   \n",
       "3  2550 2018-03-04 02:44:10  02:52:49 03-04-2018     Bottle            4.06   \n",
       "4  2549 2018-03-03 18:35:31  18:45:31 03-03-2018     Bottle            5.07   \n",
       "\n",
       "    Quantity (ml or g)  Notes   Duration (Minutes)  Food Type    Unit  \\\n",
       "0                  150    NaN                   15     Liquid  METRIC   \n",
       "1                  120    NaN                    9     Liquid  METRIC   \n",
       "2                  120    NaN                   12     Liquid  METRIC   \n",
       "3                  120    NaN                    8     Liquid  METRIC   \n",
       "4                  150    NaN                   10     Liquid  METRIC   \n",
       "\n",
       "   Bottle Type  row_num  is_liquid start_time_yymmww_cln  \\\n",
       "0      Formula        1       True            2018-03-09   \n",
       "1      Formula        2       True            2018-03-09   \n",
       "2      Formula        3       True            2018-03-09   \n",
       "3      Formula        4       True            2018-03-09   \n",
       "4      Formula        5       True            2018-03-09   \n",
       "\n",
       "  start_time_yymmdd_cln start_time_cln  start_time_hr_cln  \n",
       "0            2018-03-04       18:25:57                 18  \n",
       "1            2018-03-04       13:58:16                 13  \n",
       "2            2018-03-04       07:00:58                  7  \n",
       "3            2018-03-04       02:44:10                  2  \n",
       "4            2018-03-03       18:35:31                 18  "
      ]
     },
     "execution_count": 25,
     "metadata": {},
     "output_type": "execute_result"
    }
   ],
   "source": [
    "df['start_time_yymmww_cln'] = df[' Start Time'].map(lambda x: str(x.year) + '-' + str(x.month).zfill(2) + '-' + str(x.week).zfill(2) )\n",
    "df['start_time_yymmdd_cln'] = df[' Start Time'].map(lambda x: str(x.year) + '-' + str(x.month).zfill(2) + '-' + str(x.day).zfill(2) )\n",
    "\n",
    "df['start_time_cln'] = df[' Start Time'].dt.time\n",
    "df['start_time_hr_cln'] = df[' Start Time'].dt.hour\n",
    "df.head(5)"
   ]
  },
  {
   "cell_type": "code",
   "execution_count": 26,
   "metadata": {},
   "outputs": [],
   "source": [
    "conditions = [\n",
    "    (df['start_time_hr_cln'] <= 6) | (df['start_time_hr_cln'] >= 23)]\n",
    "choices = ['night']\n",
    "df['time_of_day'] = np.select(conditions, choices, default='day')"
   ]
  },
  {
   "cell_type": "code",
   "execution_count": 27,
   "metadata": {},
   "outputs": [
    {
     "data": {
      "text/html": [
       "<div>\n",
       "<style scoped>\n",
       "    .dataframe tbody tr th:only-of-type {\n",
       "        vertical-align: middle;\n",
       "    }\n",
       "\n",
       "    .dataframe tbody tr th {\n",
       "        vertical-align: top;\n",
       "    }\n",
       "\n",
       "    .dataframe thead th {\n",
       "        text-align: right;\n",
       "    }\n",
       "</style>\n",
       "<table border=\"1\" class=\"dataframe\">\n",
       "  <thead>\n",
       "    <tr style=\"text-align: right;\">\n",
       "      <th></th>\n",
       "      <th>id</th>\n",
       "      <th>Start Time</th>\n",
       "      <th>End Time</th>\n",
       "      <th>Feed Type</th>\n",
       "      <th>Quantity (oz)</th>\n",
       "      <th>Quantity (ml or g)</th>\n",
       "      <th>Notes</th>\n",
       "      <th>Duration (Minutes)</th>\n",
       "      <th>Food Type</th>\n",
       "      <th>Unit</th>\n",
       "      <th>Bottle Type</th>\n",
       "      <th>row_num</th>\n",
       "      <th>is_liquid</th>\n",
       "      <th>start_time_yymmww_cln</th>\n",
       "      <th>start_time_yymmdd_cln</th>\n",
       "      <th>start_time_cln</th>\n",
       "      <th>start_time_hr_cln</th>\n",
       "      <th>time_of_day</th>\n",
       "    </tr>\n",
       "  </thead>\n",
       "  <tbody>\n",
       "    <tr>\n",
       "      <th>2529</th>\n",
       "      <td>2</td>\n",
       "      <td>2017-04-26 09:00:46</td>\n",
       "      <td>09:09:48 04-26-2017</td>\n",
       "      <td>Bottle</td>\n",
       "      <td>2.03</td>\n",
       "      <td>60</td>\n",
       "      <td>NaN</td>\n",
       "      <td>9</td>\n",
       "      <td>Liquid</td>\n",
       "      <td>METRIC</td>\n",
       "      <td>Formula</td>\n",
       "      <td>2530</td>\n",
       "      <td>True</td>\n",
       "      <td>2017-04-17</td>\n",
       "      <td>2017-04-26</td>\n",
       "      <td>09:00:46</td>\n",
       "      <td>9</td>\n",
       "      <td>day</td>\n",
       "    </tr>\n",
       "    <tr>\n",
       "      <th>2504</th>\n",
       "      <td>28</td>\n",
       "      <td>2017-04-29 06:52:49</td>\n",
       "      <td>06:59:27 04-29-2017</td>\n",
       "      <td>Bottle</td>\n",
       "      <td>2.37</td>\n",
       "      <td>70</td>\n",
       "      <td>NaN</td>\n",
       "      <td>6</td>\n",
       "      <td>Liquid</td>\n",
       "      <td>METRIC</td>\n",
       "      <td>Formula</td>\n",
       "      <td>2505</td>\n",
       "      <td>True</td>\n",
       "      <td>2017-04-17</td>\n",
       "      <td>2017-04-29</td>\n",
       "      <td>06:52:49</td>\n",
       "      <td>6</td>\n",
       "      <td>night</td>\n",
       "    </tr>\n",
       "    <tr>\n",
       "      <th>2503</th>\n",
       "      <td>29</td>\n",
       "      <td>2017-04-29 09:57:21</td>\n",
       "      <td>10:07:30 04-29-2017</td>\n",
       "      <td>Bottle</td>\n",
       "      <td>2.03</td>\n",
       "      <td>60</td>\n",
       "      <td>NaN</td>\n",
       "      <td>10</td>\n",
       "      <td>Liquid</td>\n",
       "      <td>METRIC</td>\n",
       "      <td>Formula</td>\n",
       "      <td>2504</td>\n",
       "      <td>True</td>\n",
       "      <td>2017-04-17</td>\n",
       "      <td>2017-04-29</td>\n",
       "      <td>09:57:21</td>\n",
       "      <td>9</td>\n",
       "      <td>day</td>\n",
       "    </tr>\n",
       "    <tr>\n",
       "      <th>2502</th>\n",
       "      <td>30</td>\n",
       "      <td>2017-04-29 12:44:06</td>\n",
       "      <td>12:48:33 04-29-2017</td>\n",
       "      <td>Bottle</td>\n",
       "      <td>2.03</td>\n",
       "      <td>60</td>\n",
       "      <td>NaN</td>\n",
       "      <td>4</td>\n",
       "      <td>Liquid</td>\n",
       "      <td>METRIC</td>\n",
       "      <td>Formula</td>\n",
       "      <td>2503</td>\n",
       "      <td>True</td>\n",
       "      <td>2017-04-17</td>\n",
       "      <td>2017-04-29</td>\n",
       "      <td>12:44:06</td>\n",
       "      <td>12</td>\n",
       "      <td>day</td>\n",
       "    </tr>\n",
       "    <tr>\n",
       "      <th>2501</th>\n",
       "      <td>31</td>\n",
       "      <td>2017-04-29 14:55:47</td>\n",
       "      <td>15:30:47 04-29-2017</td>\n",
       "      <td>Bottle</td>\n",
       "      <td>2.03</td>\n",
       "      <td>60</td>\n",
       "      <td>NaN</td>\n",
       "      <td>35</td>\n",
       "      <td>Liquid</td>\n",
       "      <td>METRIC</td>\n",
       "      <td>Formula</td>\n",
       "      <td>2502</td>\n",
       "      <td>True</td>\n",
       "      <td>2017-04-17</td>\n",
       "      <td>2017-04-29</td>\n",
       "      <td>14:55:47</td>\n",
       "      <td>14</td>\n",
       "      <td>day</td>\n",
       "    </tr>\n",
       "  </tbody>\n",
       "</table>\n",
       "</div>"
      ],
      "text/plain": [
       "      id          Start Time             End Time  Feed Type   Quantity (oz)  \\\n",
       "2529   2 2017-04-26 09:00:46  09:09:48 04-26-2017     Bottle            2.03   \n",
       "2504  28 2017-04-29 06:52:49  06:59:27 04-29-2017     Bottle            2.37   \n",
       "2503  29 2017-04-29 09:57:21  10:07:30 04-29-2017     Bottle            2.03   \n",
       "2502  30 2017-04-29 12:44:06  12:48:33 04-29-2017     Bottle            2.03   \n",
       "2501  31 2017-04-29 14:55:47  15:30:47 04-29-2017     Bottle            2.03   \n",
       "\n",
       "       Quantity (ml or g)  Notes   Duration (Minutes)  Food Type    Unit  \\\n",
       "2529                   60    NaN                    9     Liquid  METRIC   \n",
       "2504                   70    NaN                    6     Liquid  METRIC   \n",
       "2503                   60    NaN                   10     Liquid  METRIC   \n",
       "2502                   60    NaN                    4     Liquid  METRIC   \n",
       "2501                   60    NaN                   35     Liquid  METRIC   \n",
       "\n",
       "      Bottle Type  row_num  is_liquid start_time_yymmww_cln  \\\n",
       "2529      Formula     2530       True            2017-04-17   \n",
       "2504      Formula     2505       True            2017-04-17   \n",
       "2503      Formula     2504       True            2017-04-17   \n",
       "2502      Formula     2503       True            2017-04-17   \n",
       "2501      Formula     2502       True            2017-04-17   \n",
       "\n",
       "     start_time_yymmdd_cln start_time_cln  start_time_hr_cln time_of_day  \n",
       "2529            2017-04-26       09:00:46                  9         day  \n",
       "2504            2017-04-29       06:52:49                  6       night  \n",
       "2503            2017-04-29       09:57:21                  9         day  \n",
       "2502            2017-04-29       12:44:06                 12         day  \n",
       "2501            2017-04-29       14:55:47                 14         day  "
      ]
     },
     "execution_count": 27,
     "metadata": {},
     "output_type": "execute_result"
    }
   ],
   "source": [
    "df_tmp=df\n",
    "df_tmp.sort_values('start_time_yymmww_cln', ascending=True, inplace=True)\n",
    "df_tmp.head(5)"
   ]
  },
  {
   "cell_type": "markdown",
   "metadata": {},
   "source": [
    "## Visualize feed times"
   ]
  },
  {
   "cell_type": "markdown",
   "metadata": {},
   "source": [
    "### Timing of feeds"
   ]
  },
  {
   "cell_type": "code",
   "execution_count": 28,
   "metadata": {
    "scrolled": false
   },
   "outputs": [
    {
     "data": {
      "image/png": "[encoded data removed]",
      "text/plain": [
       "<Figure size 1080x576 with 1 Axes>"
      ]
     },
     "metadata": {},
     "output_type": "display_data"
    }
   ],
   "source": [
    "sns.set(rc={'figure.figsize':(15,8)})\n",
    "sns.set_style('whitegrid')\n",
    " \n",
    "# Fonts\n",
    "plt.rcParams['font.family'] = 'Arial'\n",
    "matplotlib.rcParams['mathtext.bf'] = 'Arial:bold'\n",
    "matplotlib.rcParams['mathtext.it'] = 'Arial:italic'\n",
    "\n",
    "hue_palette ={\"night\":\"gray\",\"day\":\"orange\"}\n",
    "\n",
    "\n",
    "ax = sns.stripplot(\n",
    "    x=\"start_time_yymmww_cln\", \n",
    "    y=\"start_time_hr_cln\", \n",
    "    hue='time_of_day',\n",
    "    jitter=True,\n",
    "    alpha = 0.7,\n",
    "    palette=hue_palette,\n",
    "    data=df_tmp)\n",
    "\n",
    "# Grids and lines\n",
    "sns.set_style('whitegrid')\n",
    "ax.spines['right'].set_visible(False)\n",
    "sns.despine(left=True,right=True)\n",
    "\n",
    "# X axis labels\n",
    "ax.set_xlabel('Week',fontsize=14)\n",
    "for item in ax.get_xticklabels():\n",
    "    item.set_rotation(90)\n",
    "\n",
    "# Y axis labels\n",
    "ax.set_ylabel('Hour of feed',fontsize=14)\n",
    "ax.set(yticks=np.arange(start=0,stop=24,step=1))\n",
    "\n",
    "\n",
    "# Titles\n",
    "ax.set_title('Timings of '+ '{:,}'.format(len(df_tmp)) +' feeds in the first '\n",
    "             + str(df_tmp['start_time_yymmww_cln'].nunique())+ ' weeks', \n",
    "             pad=30, fontsize=20,loc='left')\n",
    "\n",
    "ax.annotate(\"In the second half of the year there are fewer evening feeds\", \n",
    "            xy=(0,1), \n",
    "            xycoords=\"axes fraction\",\n",
    "            xytext=(5,10), \n",
    "            textcoords=\"offset points\",\n",
    "            ha=\"left\", va=\"top\",\n",
    "            fontsize=12)\n",
    "\n",
    "# Some lines to highlight things\n",
    "plt.axhline(y=22, color='gray', linestyle='-')\n",
    "plt.axhline(y=6, color='gray', linestyle='-')\n",
    "\n",
    "# Legends and annotations\n",
    "plt.legend(bbox_to_anchor=(1.05, 1), loc=2, borderaxespad=0.)\n",
    "\n",
    "plt.show()"
   ]
  },
  {
   "cell_type": "markdown",
   "metadata": {},
   "source": [
    "### Number of feeds"
   ]
  },
  {
   "cell_type": "code",
   "execution_count": 29,
   "metadata": {},
   "outputs": [
    {
     "data": {
      "image/png": "[encoded data removed]",
      "text/plain": [
       "<Figure size 1080x216 with 1 Axes>"
      ]
     },
     "metadata": {},
     "output_type": "display_data"
    }
   ],
   "source": [
    "sns.set(rc={'figure.figsize':(15,3)})\n",
    "sns.set_style('whitegrid')\n",
    " \n",
    "ax2 = sns.countplot(x=\"start_time_yymmww_cln\",color='blue', data=df_tmp)\n",
    "\n",
    "# Grids and lines\n",
    "sns.set_style('whitegrid')\n",
    "ax2.spines['right'].set_visible(False)\n",
    "sns.despine(left=True,right=True)\n",
    "\n",
    "# X axis labels\n",
    "ax2.set_xlabel('Week',fontsize=14)\n",
    "for item in ax2.get_xticklabels():\n",
    "    item.set_rotation(90)\n",
    "\n",
    "# Y axis labels\n",
    "ax2.set_ylabel('Number of feeds',fontsize=14)\n",
    "#ax.set(yticks=np.arange(start=0,stop=24,step=1))\n",
    "\n",
    "plt.show()"
   ]
  },
  {
   "cell_type": "code",
   "execution_count": null,
   "metadata": {},
   "outputs": [],
   "source": []
  }
 ],
 "metadata": {
  "kernelspec": {
   "display_name": "Python 3",
   "language": "python",
   "name": "python3"
  },
  "language_info": {
   "codemirror_mode": {
    "name": "ipython",
    "version": 3
   },
   "file_extension": ".py",
   "mimetype": "text/x-python",
   "name": "python",
   "nbconvert_exporter": "python",
   "pygments_lexer": "ipython3",
   "version": "3.7.2"
  },
  "toc": {
   "base_numbering": 1,
   "nav_menu": {},
   "number_sections": true,
   "sideBar": true,
   "skip_h1_title": false,
   "title_cell": "Table of Contents",
   "title_sidebar": "Contents",
   "toc_cell": false,
   "toc_position": {},
   "toc_section_display": true,
   "toc_window_display": false
  }
 },
 "nbformat": 4,
 "nbformat_minor": 2
}
